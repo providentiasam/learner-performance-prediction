{
 "cells": [
  {
   "cell_type": "markdown",
   "metadata": {},
   "source": [
    "# Behavior Test (Insertion, Deletion, Replacement) Analysis"
   ]
  },
  {
   "cell_type": "code",
   "execution_count": 1,
   "metadata": {},
   "outputs": [],
   "source": [
    "import pandas as pd"
   ]
  },
  {
   "cell_type": "code",
   "execution_count": 2,
   "metadata": {},
   "outputs": [],
   "source": [
    "filenames = ['_'.join([\"spanish\",i,j]) + \".csv\" for i in [\"insertion\", \"deletion\", \"replacement\"] for j in [\"saint\", \"dkt1\"]]"
   ]
  },
  {
   "cell_type": "code",
   "execution_count": 3,
   "metadata": {},
   "outputs": [
    {
     "data": {
      "text/plain": [
       "['spanish_insertion_saint.csv',\n",
       " 'spanish_insertion_dkt1.csv',\n",
       " 'spanish_deletion_saint.csv',\n",
       " 'spanish_deletion_dkt1.csv',\n",
       " 'spanish_replacement_saint.csv',\n",
       " 'spanish_replacement_dkt1.csv']"
      ]
     },
     "execution_count": 3,
     "metadata": {},
     "output_type": "execute_result"
    }
   ],
   "source": [
    "filenames # files in notion"
   ]
  },
  {
   "cell_type": "code",
   "execution_count": 4,
   "metadata": {},
   "outputs": [],
   "source": [
    "result_list = []\n",
    "for fn in filenames:\n",
    "    result_list.append(pd.read_csv(fn))"
   ]
  },
  {
   "cell_type": "code",
   "execution_count": 5,
   "metadata": {},
   "outputs": [],
   "source": [
    "x = result_list[0]"
   ]
  },
  {
   "cell_type": "code",
   "execution_count": 6,
   "metadata": {},
   "outputs": [
    {
     "data": {
      "text/plain": [
       "Index(['Unnamed: 0', 'user_id', 'item_id', 'timestamp', 'correct', 'skill_id',\n",
       "       'orig_user_id', 'orig_idx', 'is_perturbed', 'model_pred', 'testpass',\n",
       "       'orig_prob', 'all'],\n",
       "      dtype='object')"
      ]
     },
     "execution_count": 6,
     "metadata": {},
     "output_type": "execute_result"
    }
   ],
   "source": [
    "x.columns"
   ]
  },
  {
   "cell_type": "code",
   "execution_count": 10,
   "metadata": {},
   "outputs": [
    {
     "name": "stdout",
     "output_type": "stream",
     "text": [
      "25939 | 25849 -> 0.5008689271645941\n",
      "26506 | 25282 -> 0.51181740943848\n",
      "0.506343168301537\n",
      "\n",
      "27037 | 24751 -> 0.5220707499806905\n",
      "23588 | 28200 -> 0.45547231018768825\n",
      "0.4887715300841894\n",
      "\n",
      "5287 | 3707 -> 0.5878363353346675\n",
      "49863 | 43160 -> 0.5360287240789913\n",
      "0.5405961751472794\n",
      "\n",
      "3653 | 5341 -> 0.4061596619968868\n",
      "45661 | 47362 -> 0.4908570998570246\n",
      "0.4833900232314222\n",
      "\n",
      "5323 | 3671 -> 0.591839003780298\n",
      "49883 | 43140 -> 0.5362437246702428\n",
      "0.5411451032671025\n",
      "\n",
      "3687 | 5307 -> 0.40993995997331556\n",
      "45746 | 47277 -> 0.491770852369844\n",
      "0.48455649548604646\n",
      "\n"
     ]
    }
   ],
   "source": [
    "threshold = 0\n",
    "\n",
    "for df in result_list:\n",
    "    corr_df = df.loc[df['is_perturbed'] == 1]\n",
    "    incorr_df = df.loc[df['is_perturbed'] == -1]\n",
    "    corr_testpass = (corr_df['model_pred'] >= corr_df['orig_prob'] - threshold).values.tolist()\n",
    "    incorr_testpass = (incorr_df['model_pred'] <= incorr_df['orig_prob'] + threshold).values.tolist()\n",
    "    print(corr_testpass.count(True), '|', corr_testpass.count(False), '->', corr_testpass.count(True)/len(corr_testpass))\n",
    "    print(incorr_testpass.count(True), '|', incorr_testpass.count(False), '->', incorr_testpass.count(True)/len(incorr_testpass))\n",
    "    print((corr_testpass.count(True)+incorr_testpass.count(True)) / len(df))\n",
    "    print()"
   ]
  },
  {
   "cell_type": "markdown",
   "metadata": {},
   "source": [
    "## Model Summary\n",
    "\n",
    "DKT original test auc : 0.8278944242188684\n",
    "\n",
    "SAINT original test auc : 0.847428944098048\n",
    "\n",
    "test pass probability (threshold=0.0)\n",
    "\n",
    "| model | test AUC | insertion | deletion | replacement |\n",
    "| DKT   | 0.8279   | 48.88%    | 48.34%   | 48.45%      |\n",
    "| SAINT | 0.8474   | 50.63%    | 54.06%   | 54.11%      |"
   ]
  },
  {
   "cell_type": "code",
   "execution_count": null,
   "metadata": {},
   "outputs": [],
   "source": []
  }
 ],
 "metadata": {
  "kernelspec": {
   "display_name": "Python 3",
   "language": "python",
   "name": "python3"
  },
  "language_info": {
   "codemirror_mode": {
    "name": "ipython",
    "version": 3
   },
   "file_extension": ".py",
   "mimetype": "text/x-python",
   "name": "python",
   "nbconvert_exporter": "python",
   "pygments_lexer": "ipython3",
   "version": "3.7.8"
  }
 },
 "nbformat": 4,
 "nbformat_minor": 4
}
